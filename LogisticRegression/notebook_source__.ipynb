{
 "cells": [
  {
   "cell_type": "markdown",
   "metadata": {
    "_cell_guid": "b1076dfc-b9ad-4769-8c92-a6c4dae69d19",
    "_uuid": "8f2839f25d086af736a60e9eeb907d3b93b6e0e5"
   },
   "source": [
    "# Image Classification using Logistic Regression on the Sign Language MNIST"
   ]
  },
  {
   "cell_type": "markdown",
   "metadata": {},
   "source": [
    "This python script aims to construct an Image Classification model using Logistic Regression. The Sign Language MNIST dataset from [Sign Language MNIST](https://www.kaggle.com/datamunge/sign-language-mnist) is used to train and evaluate the model. Each row in the csv file represents a label and a single 28x28 pixel image represented using 784 pixel values ranging from 0-255, much like the original MNIST dataset. However, the sign language MNIST only contains 27,455 cases for the training dataset and 7,172 cases for the test dataset which are much fewer as compared to the original MNIST.\n",
    "\n",
    "The label in the dataset denotes a number ranging from 0-25 to represent its english letter equivalent (e.g. 0 = a). However, there is no label match for the letters \"J\" and \"Z\" due to the motion required to denote the letter."
   ]
  },
  {
   "cell_type": "markdown",
   "metadata": {},
   "source": [
    "## First let's install the necessary libraries for the script to work. \n",
    "\n",
    "This assumes that you are working in anaconda. The pytorch and torchvision libraries are for the machine learning functions. On the other hand, Pandas and Numpy are used for data handling while Matplotlib is for data/image visualization. The jovian library is used to save the notebook to the jovian.ml platform."
   ]
  },
  {
   "cell_type": "code",
   "execution_count": 1,
   "metadata": {
    "_cell_guid": "79c7e3d0-c299-4dcb-8224-4455121ee9b0",
    "_uuid": "d629ff2d2480ee46fbb7e2d37f6b5fab8052498a"
   },
   "outputs": [
    {
     "name": "stdout",
     "output_type": "stream",
     "text": [
      "\u001b[33mWARNING: You are using pip version 20.1; however, version 20.1.1 is available.\r\n",
      "You should consider upgrading via the '/opt/conda/bin/python3.7 -m pip install --upgrade pip' command.\u001b[0m\r\n"
     ]
    }
   ],
   "source": [
    "# Uncomment and run the commands below if imports fail\n",
    "# !conda install numpy pytorch torchvision cpuonly -c pytorch -y\n",
    "# !pip install matplotlib --upgrade --quiet\n",
    "!pip install jovian --upgrade --quiet"
   ]
  },
  {
   "cell_type": "code",
   "execution_count": 2,
   "metadata": {},
   "outputs": [
    {
     "data": {
      "application/javascript": [
       "if (window.IPython && IPython.notebook.kernel) IPython.notebook.kernel.execute('jovian.utils.jupyter.get_notebook_name_saved = lambda: \"' + IPython.notebook.notebook_name + '\"')"
      ],
      "text/plain": [
       "<IPython.core.display.Javascript object>"
      ]
     },
     "metadata": {},
     "output_type": "display_data"
    }
   ],
   "source": [
    "# Imports\n",
    "import torch\n",
    "import jovian\n",
    "import torchvision\n",
    "import string\n",
    "import torch.nn as nn\n",
    "import matplotlib.pyplot as plt\n",
    "import torch.nn.functional as F\n",
    "import pandas as pd\n",
    "import numpy as np\n",
    "from torch.utils.data import random_split\n",
    "from torch.utils.data import DataLoader\n",
    "from torch.utils.data import TensorDataset"
   ]
  },
  {
   "cell_type": "markdown",
   "metadata": {},
   "source": [
    "The hyperparameters dictate how our model will behave in learning. The batch\\_size parameter dictates how much of the data is being used at a time to train the model. Ideally, you would want to use all the data in one run to train the model. However, doing so would result to a higher processor memory needed to run. To address this, we can process the data in batches which would be much easier for the processor. On the other hand, the learning\\_rate dictates how much we would adjust the model weight parameters. The input\\_size is dictated by the image size (in this case a 28x28 pixel image). Lastly, the num\\_classes tells how many labels are there. In this case, 26, one for each letter."
   ]
  },
  {
   "cell_type": "code",
   "execution_count": 3,
   "metadata": {},
   "outputs": [],
   "source": [
    "# Hyperparameters\n",
    "batch_size = 256\n",
    "learning_rate = 1e-5\n",
    "\n",
    "# Other constants\n",
    "input_size = 28*28\n",
    "num_classes = 26"
   ]
  },
  {
   "cell_type": "markdown",
   "metadata": {},
   "source": [
    "Let's load the training and testing dataset"
   ]
  },
  {
   "cell_type": "code",
   "execution_count": 4,
   "metadata": {},
   "outputs": [],
   "source": [
    "import os\n",
    "os.chdir('/kaggle/input/sign-language-mnist/')\n",
    "dataset = pd.read_csv('sign_mnist_train.csv')\n",
    "testdataset = pd.read_csv('sign_mnist_test.csv')\n",
    "num_rows = dataset.shape[0]\n",
    "# To map each label number to its corresponding letter\n",
    "letters = dict(enumerate(string.ascii_uppercase))"
   ]
  },
  {
   "cell_type": "code",
   "execution_count": 5,
   "metadata": {},
   "outputs": [
    {
     "data": {
      "text/html": [
       "<div>\n",
       "<style scoped>\n",
       "    .dataframe tbody tr th:only-of-type {\n",
       "        vertical-align: middle;\n",
       "    }\n",
       "\n",
       "    .dataframe tbody tr th {\n",
       "        vertical-align: top;\n",
       "    }\n",
       "\n",
       "    .dataframe thead th {\n",
       "        text-align: right;\n",
       "    }\n",
       "</style>\n",
       "<table border=\"1\" class=\"dataframe\">\n",
       "  <thead>\n",
       "    <tr style=\"text-align: right;\">\n",
       "      <th></th>\n",
       "      <th>label</th>\n",
       "      <th>pixel1</th>\n",
       "      <th>pixel2</th>\n",
       "      <th>pixel3</th>\n",
       "      <th>pixel4</th>\n",
       "      <th>pixel5</th>\n",
       "      <th>pixel6</th>\n",
       "      <th>pixel7</th>\n",
       "      <th>pixel8</th>\n",
       "      <th>pixel9</th>\n",
       "      <th>...</th>\n",
       "      <th>pixel775</th>\n",
       "      <th>pixel776</th>\n",
       "      <th>pixel777</th>\n",
       "      <th>pixel778</th>\n",
       "      <th>pixel779</th>\n",
       "      <th>pixel780</th>\n",
       "      <th>pixel781</th>\n",
       "      <th>pixel782</th>\n",
       "      <th>pixel783</th>\n",
       "      <th>pixel784</th>\n",
       "    </tr>\n",
       "  </thead>\n",
       "  <tbody>\n",
       "    <tr>\n",
       "      <th>0</th>\n",
       "      <td>3</td>\n",
       "      <td>107</td>\n",
       "      <td>118</td>\n",
       "      <td>127</td>\n",
       "      <td>134</td>\n",
       "      <td>139</td>\n",
       "      <td>143</td>\n",
       "      <td>146</td>\n",
       "      <td>150</td>\n",
       "      <td>153</td>\n",
       "      <td>...</td>\n",
       "      <td>207</td>\n",
       "      <td>207</td>\n",
       "      <td>207</td>\n",
       "      <td>207</td>\n",
       "      <td>206</td>\n",
       "      <td>206</td>\n",
       "      <td>206</td>\n",
       "      <td>204</td>\n",
       "      <td>203</td>\n",
       "      <td>202</td>\n",
       "    </tr>\n",
       "    <tr>\n",
       "      <th>1</th>\n",
       "      <td>6</td>\n",
       "      <td>155</td>\n",
       "      <td>157</td>\n",
       "      <td>156</td>\n",
       "      <td>156</td>\n",
       "      <td>156</td>\n",
       "      <td>157</td>\n",
       "      <td>156</td>\n",
       "      <td>158</td>\n",
       "      <td>158</td>\n",
       "      <td>...</td>\n",
       "      <td>69</td>\n",
       "      <td>149</td>\n",
       "      <td>128</td>\n",
       "      <td>87</td>\n",
       "      <td>94</td>\n",
       "      <td>163</td>\n",
       "      <td>175</td>\n",
       "      <td>103</td>\n",
       "      <td>135</td>\n",
       "      <td>149</td>\n",
       "    </tr>\n",
       "    <tr>\n",
       "      <th>2</th>\n",
       "      <td>2</td>\n",
       "      <td>187</td>\n",
       "      <td>188</td>\n",
       "      <td>188</td>\n",
       "      <td>187</td>\n",
       "      <td>187</td>\n",
       "      <td>186</td>\n",
       "      <td>187</td>\n",
       "      <td>188</td>\n",
       "      <td>187</td>\n",
       "      <td>...</td>\n",
       "      <td>202</td>\n",
       "      <td>201</td>\n",
       "      <td>200</td>\n",
       "      <td>199</td>\n",
       "      <td>198</td>\n",
       "      <td>199</td>\n",
       "      <td>198</td>\n",
       "      <td>195</td>\n",
       "      <td>194</td>\n",
       "      <td>195</td>\n",
       "    </tr>\n",
       "    <tr>\n",
       "      <th>3</th>\n",
       "      <td>2</td>\n",
       "      <td>211</td>\n",
       "      <td>211</td>\n",
       "      <td>212</td>\n",
       "      <td>212</td>\n",
       "      <td>211</td>\n",
       "      <td>210</td>\n",
       "      <td>211</td>\n",
       "      <td>210</td>\n",
       "      <td>210</td>\n",
       "      <td>...</td>\n",
       "      <td>235</td>\n",
       "      <td>234</td>\n",
       "      <td>233</td>\n",
       "      <td>231</td>\n",
       "      <td>230</td>\n",
       "      <td>226</td>\n",
       "      <td>225</td>\n",
       "      <td>222</td>\n",
       "      <td>229</td>\n",
       "      <td>163</td>\n",
       "    </tr>\n",
       "    <tr>\n",
       "      <th>4</th>\n",
       "      <td>13</td>\n",
       "      <td>164</td>\n",
       "      <td>167</td>\n",
       "      <td>170</td>\n",
       "      <td>172</td>\n",
       "      <td>176</td>\n",
       "      <td>179</td>\n",
       "      <td>180</td>\n",
       "      <td>184</td>\n",
       "      <td>185</td>\n",
       "      <td>...</td>\n",
       "      <td>92</td>\n",
       "      <td>105</td>\n",
       "      <td>105</td>\n",
       "      <td>108</td>\n",
       "      <td>133</td>\n",
       "      <td>163</td>\n",
       "      <td>157</td>\n",
       "      <td>163</td>\n",
       "      <td>164</td>\n",
       "      <td>179</td>\n",
       "    </tr>\n",
       "  </tbody>\n",
       "</table>\n",
       "<p>5 rows × 785 columns</p>\n",
       "</div>"
      ],
      "text/plain": [
       "   label  pixel1  pixel2  pixel3  pixel4  pixel5  pixel6  pixel7  pixel8  \\\n",
       "0      3     107     118     127     134     139     143     146     150   \n",
       "1      6     155     157     156     156     156     157     156     158   \n",
       "2      2     187     188     188     187     187     186     187     188   \n",
       "3      2     211     211     212     212     211     210     211     210   \n",
       "4     13     164     167     170     172     176     179     180     184   \n",
       "\n",
       "   pixel9  ...  pixel775  pixel776  pixel777  pixel778  pixel779  pixel780  \\\n",
       "0     153  ...       207       207       207       207       206       206   \n",
       "1     158  ...        69       149       128        87        94       163   \n",
       "2     187  ...       202       201       200       199       198       199   \n",
       "3     210  ...       235       234       233       231       230       226   \n",
       "4     185  ...        92       105       105       108       133       163   \n",
       "\n",
       "   pixel781  pixel782  pixel783  pixel784  \n",
       "0       206       204       203       202  \n",
       "1       175       103       135       149  \n",
       "2       198       195       194       195  \n",
       "3       225       222       229       163  \n",
       "4       157       163       164       179  \n",
       "\n",
       "[5 rows x 785 columns]"
      ]
     },
     "execution_count": 5,
     "metadata": {},
     "output_type": "execute_result"
    }
   ],
   "source": [
    "dataset.head()"
   ]
  },
  {
   "cell_type": "markdown",
   "metadata": {},
   "source": [
    "Since the machine learning functions need separate numerical arrays for the input image and input label, we've constructed a helper function to split the dataset for easier implementation. Then we used this function to split the training dataset and testing dataset."
   ]
  },
  {
   "cell_type": "code",
   "execution_count": 6,
   "metadata": {},
   "outputs": [],
   "source": [
    "def dataframe_to_array(dataframe):\n",
    "    # Make a copy of the original dataframe\n",
    "    dataframe1 = dataframe.copy(deep=True)\n",
    "    # Extract input & outupts as numpy arrays\n",
    "    inputs_array = dataframe1.iloc[:, 1:].to_numpy()\n",
    "    targets_array = dataframe1['label'].to_numpy()\n",
    "    return inputs_array, targets_array"
   ]
  },
  {
   "cell_type": "code",
   "execution_count": 7,
   "metadata": {},
   "outputs": [],
   "source": [
    "inputs_array, targets_array = dataframe_to_array(dataset)\n",
    "testinputs_array, testtargets_array = dataframe_to_array(testdataset)"
   ]
  },
  {
   "cell_type": "markdown",
   "metadata": {},
   "source": [
    "Let's look at the first entry of the training dataset. Since we know that the image is a 28x28 grayscale image, we first reshape the array to 28x28 then set the colormap to gray."
   ]
  },
  {
   "cell_type": "code",
   "execution_count": 8,
   "metadata": {},
   "outputs": [
    {
     "name": "stdout",
     "output_type": "stream",
     "text": [
      "Letter:  D\n"
     ]
    },
    {
     "data": {
      "image/png": "[encoded data removed]",
      "text/plain": [
       "<Figure size 432x288 with 1 Axes>"
      ]
     },
     "metadata": {
      "needs_background": "light"
     },
     "output_type": "display_data"
    }
   ],
   "source": [
    "pic1 = np.reshape(inputs_array[0], (28, 28))\n",
    "plt.imshow(pic1, cmap = \"gray\")\n",
    "print(\"Letter: \", letters[targets_array[0].item()])"
   ]
  },
  {
   "cell_type": "markdown",
   "metadata": {},
   "source": [
    "As expected, the image symbolizes \"D\". However, we can note that the image is not clear since the resolution is limited to 28x28. This may affect the accuracy of the model prediction especially when implementing at a much larger scale."
   ]
  },
  {
   "cell_type": "markdown",
   "metadata": {},
   "source": [
    "Let's start converting the training inputs and outputs and testing inputs and outputs to a tensor. Float is used as data type for the inputs for us to have more precision as compared to using discrete integers. On the other hand, long integer data type is used for the outputs since the output of our model are indices of the maximum likelihood function."
   ]
  },
  {
   "cell_type": "code",
   "execution_count": 9,
   "metadata": {},
   "outputs": [],
   "source": [
    "inputs = torch.from_numpy(inputs_array).float()\n",
    "targets = torch.from_numpy(targets_array).long()\n",
    "testinputs = torch.from_numpy(testinputs_array).float()\n",
    "testtargets = torch.from_numpy(testtargets_array).long()"
   ]
  },
  {
   "cell_type": "code",
   "execution_count": 10,
   "metadata": {
    "collapsed": true
   },
   "outputs": [
    {
     "name": "stdout",
     "output_type": "stream",
     "text": [
      "[jovian] Please enter your API key ( from https://jovian.ml/ ):\u001b[0m\n",
      "API KEY: ········\n"
     ]
    },
    {
     "name": "stderr",
     "output_type": "stream",
     "text": [
      "\u001b[31m[jovian] Error: The current API key is invalid or expired.\u001b[0m\n"
     ]
    },
    {
     "name": "stdout",
     "output_type": "stream",
     "text": [
      "[jovian] Please enter your API key ( from https://jovian.ml/ ):\u001b[0m\n",
      "API KEY: ········\n",
      "API KEY: ········\n",
      "[jovian] Hyperparams logged.\u001b[0m\n"
     ]
    }
   ],
   "source": [
    "# Logging parameters to Jovian.ml (Repository)\n",
    "jovian.reset()\n",
    "jovian.log_hyperparams(batch_size=batch_size, learning_rate=learning_rate)"
   ]
  },
  {
   "cell_type": "markdown",
   "metadata": {},
   "source": [
    "## Dataset & Data loaders\n",
    "#### After we have loaded and transformed the data to be used by the model. We then group these data in batches for the model to use."
   ]
  },
  {
   "cell_type": "markdown",
   "metadata": {},
   "source": [
    "First, let's wrap the training inputs and outputs to a single dataset for easier access and to ensure that the correct label is matched to its corresponding image. The same could also be done to the testing dataset. We then split the training dataset to training and validation subsets. \n",
    "\n",
    "After splitting the datasets, we then load these data in batches with size as we defined earlier. In this particular dataset, shuffling is not necessary since our dataset our not arranged by label. However, it is good practice to randomly shuffle the data to ensure that different batches of data are used in each training iteration which could help generalize the model and speed up the training process. Since the validation dataset are used to determine the accuracy of model, then shuffling is not necessary."
   ]
  },
  {
   "cell_type": "code",
   "execution_count": 11,
   "metadata": {},
   "outputs": [],
   "source": [
    "# Training validation & test dataset\n",
    "dataset = TensorDataset(inputs, targets)\n",
    "testdataset = TensorDataset(testinputs, testtargets)\n",
    "\n",
    "# Let's use 15% of our training dataset to validate our model\n",
    "val_percent = 0.15\n",
    "val_size = int(num_rows * val_percent)\n",
    "train_size = num_rows - val_size\n",
    "train_ds, val_ds = random_split(dataset, [train_size, val_size])\n",
    "\n",
    "# Dataloaders\n",
    "train_loader = DataLoader(train_ds, batch_size, shuffle=True)\n",
    "val_loader = DataLoader(val_ds, batch_size*2)\n",
    "test_loader = DataLoader(testdataset, batch_size*2)"
   ]
  },
  {
   "cell_type": "code",
   "execution_count": 12,
   "metadata": {},
   "outputs": [
    {
     "name": "stdout",
     "output_type": "stream",
     "text": [
      "Letter:  I\n"
     ]
    },
    {
     "data": {
      "image/png": "[encoded data removed]",
      "text/plain": [
       "<Figure size 432x288 with 1 Axes>"
      ]
     },
     "metadata": {
      "needs_background": "light"
     },
     "output_type": "display_data"
    }
   ],
   "source": [
    "img, label = train_ds[0]\n",
    "plt.imshow(img.reshape((28,28)), cmap = 'gray')\n",
    "print(\"Letter: \", letters[label.item()])"
   ]
  },
  {
   "cell_type": "markdown",
   "metadata": {},
   "source": [
    "As shown in the image, the first entry of our training dataset is not the same as the first entry of our dataframe earlier. From this, we have the assurance that entries in each batch of the dataset are randomized and different for each training iteration."
   ]
  },
  {
   "cell_type": "markdown",
   "metadata": {},
   "source": [
    "## Model\n",
    "#### Let's then construct the model to predict the letter symbolized in the images"
   ]
  },
  {
   "cell_type": "markdown",
   "metadata": {},
   "source": [
    "For our model, we'll use a logistic regression relating the input to the output. This is similar to a linear regression where various variables, with varying weights, and with offset bias affect the output. In this case each pixel value, multiplied by some value, added by some other value affects how the user perceive the letter denoted by the symbol.\n",
    "\n",
    "We will use PyTorch's Linear Regression function but we will add more functions specific to our needs. Since PyTorch requires a one-dimentional input tensor, we will flatten the input to a tensor with shape (1, 784). The output of the Linear function is a tensor with 26 elements, with each value signifying the probability that the image denotes the letter corresponding to the index. For example the output is, \\[0.001 0.001 ... 0.0\\], then there is a 0.001 chance that the image symbolizes \"A\".\n",
    "\n",
    "Upon instantiating the model, random weights and biases are generated in the initialization of the class. The forward method of the class is automatically run when a batch of data is passed on to the model.\n",
    "\n",
    "Ideally, we want the output of the Linear function to be a tensor that contains probabilities. However, that is not initially the case since the output value ranges from negative to positive infinity (technically not infinity due to limitations in byte representations of numbers). Hence, we have a loss function that scales the values to within 0.0 to 1.0 and the sum of these values add up to 1. \n",
    "\n",
    "PyTorch's cross_entropy function implements the softmax function to the tensor. Since, there is only one correct letter denoted per image (hand letter symbols are unique), the softmax function is used as compared to the sigmoid function."
   ]
  },
  {
   "cell_type": "markdown",
   "metadata": {},
   "source": [
    "The validation\\_step, validation\\_epoch\\_end, and epoch\\_end method enable us to tell how our model is doing. For us users, we rely on the accuracy function (how often the model correctly predicts the image) to tell how good the model is. However, we can not tell how good the model performs every after iteration of the training_step. As such, the cross\\_entropy function provides as an idea how the probability distribution for the function changes. Generally, we want lower val\\_loss and higher val\\_acc. The cross\\_entropy function also enables us to perform gradient which enables us to adjust our model."
   ]
  },
  {
   "cell_type": "code",
   "execution_count": 13,
   "metadata": {},
   "outputs": [],
   "source": [
    "class MnistModel(nn.Module):\n",
    "    def __init__(self):\n",
    "        super().__init__()\n",
    "        self.linear = nn.Linear(input_size, num_classes)\n",
    "        \n",
    "    def forward(self, xb):\n",
    "        xb = xb.reshape(-1, 784)\n",
    "        out = self.linear(xb)\n",
    "        return out\n",
    "    \n",
    "    def training_step(self, batch):\n",
    "        images, labels = batch \n",
    "        out = self(images)                  # Generate predictions\n",
    "        loss = F.cross_entropy(out, labels) # Calculate loss\n",
    "        return loss\n",
    "    \n",
    "    def validation_step(self, batch):\n",
    "        images, labels = batch \n",
    "        out = self(images)                    # Generate predictions\n",
    "        loss = F.cross_entropy(out, labels)   # Calculate loss\n",
    "        acc = accuracy(out, labels)           # Calculate accuracy\n",
    "        return {'val_loss': loss.detach(), 'val_acc': acc.detach()}\n",
    "        \n",
    "    def validation_epoch_end(self, outputs):\n",
    "        batch_losses = [x['val_loss'] for x in outputs]\n",
    "        epoch_loss = torch.stack(batch_losses).mean()   # Combine losses\n",
    "        batch_accs = [x['val_acc'] for x in outputs]\n",
    "        epoch_acc = torch.stack(batch_accs).mean()      # Combine accuracies\n",
    "        return {'val_loss': epoch_loss.item(), 'val_acc': epoch_acc.item()}\n",
    "    \n",
    "    def epoch_end(self, epoch, result):\n",
    "        print(\"Epoch [{}], val_loss: {:.4f}, val_acc: {:.4f}\".format(epoch, result['val_loss'], result['val_acc']))\n",
    "    \n",
    "model = MnistModel()"
   ]
  },
  {
   "cell_type": "markdown",
   "metadata": {},
   "source": [
    "## Training\n",
    "#### Initially, the model would have a low accuracy since it only contains random weights and biases for the input parameters. As such, we should train the model to lower the loss and increase the accuracy."
   ]
  },
  {
   "cell_type": "markdown",
   "metadata": {},
   "source": [
    "Here, we define accuracy as the amount of times the model correctly predicts the letter denoted by the hand image. Since we're dealing with probability distribution, we take the one with the highest probability to be the model's letter prediction."
   ]
  },
  {
   "cell_type": "code",
   "execution_count": 14,
   "metadata": {},
   "outputs": [],
   "source": [
    "def accuracy(outputs, labels):\n",
    "    _, preds = torch.max(outputs, dim=1)\n",
    "    return torch.tensor(torch.sum(preds == labels).item() / len(preds))"
   ]
  },
  {
   "cell_type": "markdown",
   "metadata": {},
   "source": [
    "The evaluate helper function enables us to run the model to predict the letters in the validation dataset. It then returns the loss and accuracy in each iteration. \n",
    "\n",
    "The bulk of training of our model relies on the fit function. Here we define epoch as the amount of iterations we're training the model. The optimizer function used in this model is the Stochastic Gradient Descent of PyTorch. We aim to adjust the model parameters such that we reach the local minima of the fitting graph to minimize the loss. This optimizer function adjusts the parameters of the model by a factor dictated by the learning rate. After every adjustment/step, it is important to call the zero\\_grad( ) method to reset gradient from calling the backward( ) method of the loss function."
   ]
  },
  {
   "cell_type": "code",
   "execution_count": 15,
   "metadata": {},
   "outputs": [],
   "source": [
    "def evaluate(model, val_loader):\n",
    "    outputs = [model.validation_step(batch) for batch in val_loader]\n",
    "    return model.validation_epoch_end(outputs)\n",
    "\n",
    "def fit(epochs, lr, model, train_loader, val_loader, opt_func=torch.optim.SGD):\n",
    "    history = []\n",
    "    optimizer = opt_func(model.parameters(), lr)\n",
    "    for epoch in range(epochs):\n",
    "        # Training Phase \n",
    "        for batch in train_loader:\n",
    "            loss = model.training_step(batch)\n",
    "            loss.backward()\n",
    "            optimizer.step()\n",
    "            optimizer.zero_grad()\n",
    "        # Validation phase\n",
    "        result = evaluate(model, val_loader)\n",
    "        model.epoch_end(epoch, result)\n",
    "        history.append(result)\n",
    "    return history"
   ]
  },
  {
   "cell_type": "code",
   "execution_count": 16,
   "metadata": {},
   "outputs": [
    {
     "data": {
      "text/plain": [
       "{'val_loss': 305.1435852050781, 'val_acc': 0.0}"
      ]
     },
     "execution_count": 16,
     "metadata": {},
     "output_type": "execute_result"
    }
   ],
   "source": [
    "evaluate(model, val_loader)"
   ]
  },
  {
   "cell_type": "markdown",
   "metadata": {},
   "source": [
    "As seen from the evaluation of our model, we have a very low accuracy and a fairly high loss. This is expected since the initial model parameters are just random numbers. We must then train this model using our fit helper function."
   ]
  },
  {
   "cell_type": "code",
   "execution_count": 17,
   "metadata": {},
   "outputs": [
    {
     "name": "stdout",
     "output_type": "stream",
     "text": [
      "Epoch [0], val_loss: 373.6416, val_acc: 0.1165\n",
      "Epoch [1], val_loss: 236.6631, val_acc: 0.2990\n",
      "Epoch [2], val_loss: 212.8696, val_acc: 0.1477\n",
      "Epoch [3], val_loss: 96.1996, val_acc: 0.3692\n",
      "Epoch [4], val_loss: 138.2231, val_acc: 0.2458\n",
      "Epoch [5], val_loss: 153.9159, val_acc: 0.1462\n",
      "Epoch [6], val_loss: 128.0211, val_acc: 0.2826\n",
      "Epoch [7], val_loss: 58.6046, val_acc: 0.3783\n",
      "Epoch [8], val_loss: 59.8205, val_acc: 0.4061\n",
      "Epoch [9], val_loss: 62.2000, val_acc: 0.3818\n",
      "Epoch [10], val_loss: 60.6861, val_acc: 0.3701\n",
      "Epoch [11], val_loss: 51.1591, val_acc: 0.4152\n",
      "Epoch [12], val_loss: 80.4534, val_acc: 0.2678\n",
      "Epoch [13], val_loss: 22.9606, val_acc: 0.5818\n",
      "Epoch [14], val_loss: 69.7663, val_acc: 0.3669\n",
      "Epoch [15], val_loss: 29.4665, val_acc: 0.5241\n",
      "Epoch [16], val_loss: 25.3637, val_acc: 0.6042\n",
      "Epoch [17], val_loss: 65.6871, val_acc: 0.2994\n",
      "Epoch [18], val_loss: 52.9328, val_acc: 0.4651\n",
      "Epoch [19], val_loss: 54.6305, val_acc: 0.5595\n",
      "Epoch [20], val_loss: 17.6914, val_acc: 0.6931\n",
      "Epoch [21], val_loss: 31.5094, val_acc: 0.5740\n",
      "Epoch [22], val_loss: 50.8502, val_acc: 0.4483\n",
      "Epoch [23], val_loss: 25.7867, val_acc: 0.5614\n",
      "Epoch [24], val_loss: 10.2864, val_acc: 0.7197\n",
      "Epoch [25], val_loss: 27.3409, val_acc: 0.6138\n",
      "Epoch [26], val_loss: 18.5773, val_acc: 0.6134\n",
      "Epoch [27], val_loss: 31.7216, val_acc: 0.6590\n",
      "Epoch [28], val_loss: 28.1216, val_acc: 0.6060\n",
      "Epoch [29], val_loss: 21.0506, val_acc: 0.6063\n",
      "Epoch [30], val_loss: 6.3175, val_acc: 0.7834\n",
      "Epoch [31], val_loss: 31.7969, val_acc: 0.5868\n",
      "Epoch [32], val_loss: 18.8326, val_acc: 0.7327\n",
      "Epoch [33], val_loss: 10.2292, val_acc: 0.7793\n",
      "Epoch [34], val_loss: 4.3906, val_acc: 0.8189\n",
      "Epoch [35], val_loss: 27.9163, val_acc: 0.5742\n",
      "Epoch [36], val_loss: 7.9224, val_acc: 0.7617\n",
      "Epoch [37], val_loss: 12.2190, val_acc: 0.7114\n",
      "Epoch [38], val_loss: 205.4237, val_acc: 0.1006\n",
      "Epoch [39], val_loss: 16.7153, val_acc: 0.6730\n",
      "Epoch [40], val_loss: 2.6593, val_acc: 0.8909\n",
      "Epoch [41], val_loss: 17.1072, val_acc: 0.7138\n",
      "Epoch [42], val_loss: 6.2627, val_acc: 0.7980\n",
      "Epoch [43], val_loss: 3.4128, val_acc: 0.8551\n",
      "Epoch [44], val_loss: 0.4590, val_acc: 0.9537\n",
      "Epoch [45], val_loss: 0.7734, val_acc: 0.9508\n",
      "Epoch [46], val_loss: 7.7457, val_acc: 0.8175\n",
      "Epoch [47], val_loss: 1.7174, val_acc: 0.9298\n",
      "Epoch [48], val_loss: 18.8750, val_acc: 0.7007\n",
      "Epoch [49], val_loss: 14.5354, val_acc: 0.6842\n"
     ]
    }
   ],
   "source": [
    "history = fit(50, 1e-4, model, train_loader, val_loader)"
   ]
  },
  {
   "cell_type": "code",
   "execution_count": 18,
   "metadata": {},
   "outputs": [
    {
     "data": {
      "image/png": "[encoded data removed]",
      "text/plain": [
       "<Figure size 432x288 with 1 Axes>"
      ]
     },
     "metadata": {
      "needs_background": "light"
     },
     "output_type": "display_data"
    }
   ],
   "source": [
    "# Visualizing how our model performed after each epoch\n",
    "accuracies = [r['val_acc'] for r in history]\n",
    "plt.plot(accuracies, '-x')\n",
    "plt.xlabel('epoch')\n",
    "plt.ylabel('accuracy')\n",
    "plt.title('Accuracy vs. No. of epochs');"
   ]
  },
  {
   "cell_type": "markdown",
   "metadata": {},
   "source": [
    "From the graph, we can see that the our model somewhat improves as the amount of epoch increases. However, it can alo be seen that our model has a high variability. This may be due to a high learning rate. Let's try to test this model on the test dataset to see how it performed."
   ]
  },
  {
   "cell_type": "code",
   "execution_count": 19,
   "metadata": {},
   "outputs": [
    {
     "data": {
      "text/plain": [
       "{'val_loss': 32.8629150390625, 'val_acc': 0.5368489623069763}"
      ]
     },
     "execution_count": 19,
     "metadata": {},
     "output_type": "execute_result"
    }
   ],
   "source": [
    "# Evaluate on test dataset\n",
    "result = evaluate(model, test_loader)\n",
    "result"
   ]
  },
  {
   "cell_type": "markdown",
   "metadata": {},
   "source": [
    "It has a low accuracy, just barely over 50%. Let's try to construct a new model with a lower learning rate and try to train it for the same number of epoch to see how the learning rate would affect the accuracy of the model."
   ]
  },
  {
   "cell_type": "code",
   "execution_count": 20,
   "metadata": {},
   "outputs": [],
   "source": [
    "model_2 = MnistModel()"
   ]
  },
  {
   "cell_type": "code",
   "execution_count": 21,
   "metadata": {},
   "outputs": [
    {
     "data": {
      "text/plain": [
       "{'val_loss': 206.95242309570312, 'val_acc': 0.04829545319080353}"
      ]
     },
     "execution_count": 21,
     "metadata": {},
     "output_type": "execute_result"
    }
   ],
   "source": [
    "# Evaluating the model prior to training\n",
    "evaluate(model_2, val_loader)"
   ]
  },
  {
   "cell_type": "markdown",
   "metadata": {},
   "source": [
    "Similarly, it also has a very low accuracy and high value loss. Let's train this model with the same number of epochs but a lower learning rate (1e-5)."
   ]
  },
  {
   "cell_type": "code",
   "execution_count": 22,
   "metadata": {},
   "outputs": [
    {
     "name": "stdout",
     "output_type": "stream",
     "text": [
      "Epoch [0], val_loss: 30.3771, val_acc: 0.0865\n",
      "Epoch [1], val_loss: 24.0372, val_acc: 0.1545\n",
      "Epoch [2], val_loss: 19.4929, val_acc: 0.1840\n",
      "Epoch [3], val_loss: 21.1964, val_acc: 0.2015\n",
      "Epoch [4], val_loss: 15.6984, val_acc: 0.2415\n",
      "Epoch [5], val_loss: 14.2188, val_acc: 0.3040\n",
      "Epoch [6], val_loss: 14.0876, val_acc: 0.2671\n",
      "Epoch [7], val_loss: 13.1219, val_acc: 0.3275\n",
      "Epoch [8], val_loss: 13.9743, val_acc: 0.2624\n",
      "Epoch [9], val_loss: 10.2435, val_acc: 0.3625\n",
      "Epoch [10], val_loss: 9.8026, val_acc: 0.3652\n",
      "Epoch [11], val_loss: 10.2683, val_acc: 0.3606\n",
      "Epoch [12], val_loss: 10.2023, val_acc: 0.3878\n",
      "Epoch [13], val_loss: 7.8090, val_acc: 0.4470\n",
      "Epoch [14], val_loss: 7.2419, val_acc: 0.4401\n",
      "Epoch [15], val_loss: 9.5957, val_acc: 0.3854\n",
      "Epoch [16], val_loss: 10.0392, val_acc: 0.4118\n",
      "Epoch [17], val_loss: 8.0192, val_acc: 0.4209\n",
      "Epoch [18], val_loss: 5.7691, val_acc: 0.4953\n",
      "Epoch [19], val_loss: 7.1530, val_acc: 0.4455\n",
      "Epoch [20], val_loss: 5.2216, val_acc: 0.5036\n",
      "Epoch [21], val_loss: 8.2238, val_acc: 0.4353\n",
      "Epoch [22], val_loss: 5.5019, val_acc: 0.5140\n",
      "Epoch [23], val_loss: 6.2535, val_acc: 0.4587\n",
      "Epoch [24], val_loss: 4.6788, val_acc: 0.5381\n",
      "Epoch [25], val_loss: 5.3849, val_acc: 0.5305\n",
      "Epoch [26], val_loss: 4.8401, val_acc: 0.5536\n",
      "Epoch [27], val_loss: 4.5682, val_acc: 0.5707\n",
      "Epoch [28], val_loss: 4.3615, val_acc: 0.5533\n",
      "Epoch [29], val_loss: 4.9520, val_acc: 0.5273\n",
      "Epoch [30], val_loss: 4.2901, val_acc: 0.5672\n",
      "Epoch [31], val_loss: 4.6028, val_acc: 0.5509\n",
      "Epoch [32], val_loss: 5.7460, val_acc: 0.5094\n",
      "Epoch [33], val_loss: 3.3631, val_acc: 0.6212\n",
      "Epoch [34], val_loss: 3.9018, val_acc: 0.5681\n",
      "Epoch [35], val_loss: 4.4867, val_acc: 0.5633\n",
      "Epoch [36], val_loss: 3.6663, val_acc: 0.6013\n",
      "Epoch [37], val_loss: 2.9145, val_acc: 0.6284\n",
      "Epoch [38], val_loss: 3.2903, val_acc: 0.5948\n",
      "Epoch [39], val_loss: 4.8105, val_acc: 0.5574\n",
      "Epoch [40], val_loss: 3.5161, val_acc: 0.6234\n",
      "Epoch [41], val_loss: 7.8898, val_acc: 0.4524\n",
      "Epoch [42], val_loss: 3.2130, val_acc: 0.6307\n",
      "Epoch [43], val_loss: 3.5524, val_acc: 0.6115\n",
      "Epoch [44], val_loss: 3.1558, val_acc: 0.6146\n",
      "Epoch [45], val_loss: 3.0390, val_acc: 0.6245\n",
      "Epoch [46], val_loss: 4.4095, val_acc: 0.5462\n",
      "Epoch [47], val_loss: 2.3064, val_acc: 0.6866\n",
      "Epoch [48], val_loss: 2.1656, val_acc: 0.6913\n",
      "Epoch [49], val_loss: 3.7926, val_acc: 0.6298\n"
     ]
    }
   ],
   "source": [
    "history_2 = fit(50, 1e-5, model_2, train_loader, val_loader)"
   ]
  },
  {
   "cell_type": "code",
   "execution_count": 23,
   "metadata": {},
   "outputs": [
    {
     "data": {
      "image/png": "[encoded data removed]",
      "text/plain": [
       "<Figure size 432x288 with 1 Axes>"
      ]
     },
     "metadata": {
      "needs_background": "light"
     },
     "output_type": "display_data"
    }
   ],
   "source": [
    "# Visualizing how our model performed after each epoch\n",
    "accuracies_2 = [r['val_acc'] for r in history_2]\n",
    "plt.plot(accuracies_2, '-x')\n",
    "plt.xlabel('epoch')\n",
    "plt.ylabel('accuracy')\n",
    "plt.title('Accuracy vs. No. of epochs');"
   ]
  },
  {
   "cell_type": "markdown",
   "metadata": {},
   "source": [
    "The second model has the same trend as the previous model, higher amount of epochs lead to higher accuracy. The variability of the accuracy is still there but this model does not suffer from a large dip in accuracy. Let's train this model for 50 more epochs."
   ]
  },
  {
   "cell_type": "code",
   "execution_count": 24,
   "metadata": {},
   "outputs": [
    {
     "name": "stdout",
     "output_type": "stream",
     "text": [
      "Epoch [0], val_loss: 1.9098, val_acc: 0.7259\n",
      "Epoch [1], val_loss: 2.3530, val_acc: 0.6722\n",
      "Epoch [2], val_loss: 2.7303, val_acc: 0.6230\n",
      "Epoch [3], val_loss: 2.6074, val_acc: 0.6530\n",
      "Epoch [4], val_loss: 1.9150, val_acc: 0.6960\n",
      "Epoch [5], val_loss: 2.4516, val_acc: 0.6593\n",
      "Epoch [6], val_loss: 1.7031, val_acc: 0.7342\n",
      "Epoch [7], val_loss: 2.7151, val_acc: 0.6354\n",
      "Epoch [8], val_loss: 2.2343, val_acc: 0.6900\n",
      "Epoch [9], val_loss: 1.4677, val_acc: 0.7454\n",
      "Epoch [10], val_loss: 1.7679, val_acc: 0.7040\n",
      "Epoch [11], val_loss: 1.6972, val_acc: 0.7357\n",
      "Epoch [12], val_loss: 1.7417, val_acc: 0.7361\n",
      "Epoch [13], val_loss: 1.6969, val_acc: 0.7082\n",
      "Epoch [14], val_loss: 1.8569, val_acc: 0.7332\n",
      "Epoch [15], val_loss: 1.8028, val_acc: 0.7110\n",
      "Epoch [16], val_loss: 1.2110, val_acc: 0.7744\n",
      "Epoch [17], val_loss: 1.1476, val_acc: 0.7970\n",
      "Epoch [18], val_loss: 1.7200, val_acc: 0.7101\n",
      "Epoch [19], val_loss: 1.3602, val_acc: 0.7586\n",
      "Epoch [20], val_loss: 1.1352, val_acc: 0.7727\n",
      "Epoch [21], val_loss: 1.4716, val_acc: 0.7583\n",
      "Epoch [22], val_loss: 1.0894, val_acc: 0.8169\n",
      "Epoch [23], val_loss: 2.7907, val_acc: 0.6806\n",
      "Epoch [24], val_loss: 1.6651, val_acc: 0.7249\n",
      "Epoch [25], val_loss: 1.4552, val_acc: 0.7664\n",
      "Epoch [26], val_loss: 1.0235, val_acc: 0.7907\n",
      "Epoch [27], val_loss: 2.2116, val_acc: 0.6987\n",
      "Epoch [28], val_loss: 1.0948, val_acc: 0.7704\n",
      "Epoch [29], val_loss: 0.8278, val_acc: 0.8236\n",
      "Epoch [30], val_loss: 1.2257, val_acc: 0.7800\n",
      "Epoch [31], val_loss: 0.9031, val_acc: 0.7970\n",
      "Epoch [32], val_loss: 1.0647, val_acc: 0.8025\n",
      "Epoch [33], val_loss: 1.2518, val_acc: 0.7559\n",
      "Epoch [34], val_loss: 1.5463, val_acc: 0.7455\n",
      "Epoch [35], val_loss: 1.2687, val_acc: 0.7948\n",
      "Epoch [36], val_loss: 0.9247, val_acc: 0.8068\n",
      "Epoch [37], val_loss: 0.9337, val_acc: 0.8071\n",
      "Epoch [38], val_loss: 0.8540, val_acc: 0.8079\n",
      "Epoch [39], val_loss: 0.9138, val_acc: 0.7854\n",
      "Epoch [40], val_loss: 0.8146, val_acc: 0.7967\n",
      "Epoch [41], val_loss: 0.4442, val_acc: 0.8975\n",
      "Epoch [42], val_loss: 1.0386, val_acc: 0.8110\n",
      "Epoch [43], val_loss: 0.8265, val_acc: 0.8203\n",
      "Epoch [44], val_loss: 0.6168, val_acc: 0.8527\n",
      "Epoch [45], val_loss: 0.7002, val_acc: 0.8289\n",
      "Epoch [46], val_loss: 0.5732, val_acc: 0.8607\n",
      "Epoch [47], val_loss: 0.4406, val_acc: 0.8890\n",
      "Epoch [48], val_loss: 0.5211, val_acc: 0.8513\n",
      "Epoch [49], val_loss: 1.1582, val_acc: 0.8049\n"
     ]
    }
   ],
   "source": [
    "history_3 = fit(50, 1e-5, model_2, train_loader, val_loader)"
   ]
  },
  {
   "cell_type": "code",
   "execution_count": 25,
   "metadata": {},
   "outputs": [
    {
     "data": {
      "image/png": "[encoded data removed]",
      "text/plain": [
       "<Figure size 432x288 with 1 Axes>"
      ]
     },
     "metadata": {
      "needs_background": "light"
     },
     "output_type": "display_data"
    }
   ],
   "source": [
    "# Visualizing total performance of the model across 100 epoch\n",
    "accuracies_3 = [r['val_acc'] for r in history_3]\n",
    "accuracies_model2 = accuracies_2 + accuracies_3\n",
    "plt.plot(accuracies_model2, '-x')\n",
    "plt.xlabel('epoch')\n",
    "plt.ylabel('accuracy')\n",
    "plt.title('Accuracy vs. No. of epochs');"
   ]
  },
  {
   "cell_type": "markdown",
   "metadata": {},
   "source": [
    "From the graph, our model would most likely plateau at about 80%. By reducing the learning rate, we minimized the amount of dips in the accuracy of our model. This is most likely the limit of the accuracy of the model using logistic regression. Other models could also be used to implement a more sophisticated and accurate model. For now, let's test the accuracy of the model to the test dataset."
   ]
  },
  {
   "cell_type": "code",
   "execution_count": 26,
   "metadata": {},
   "outputs": [
    {
     "data": {
      "text/plain": [
       "{'val_loss': 6.2635416984558105, 'val_acc': 0.5388020873069763}"
      ]
     },
     "execution_count": 26,
     "metadata": {},
     "output_type": "execute_result"
    }
   ],
   "source": [
    "# Evaluate on test dataset\n",
    "result_2 = evaluate(model_2, test_loader)\n",
    "result_2"
   ]
  },
  {
   "cell_type": "markdown",
   "metadata": {},
   "source": [
    "The accuracy of model 2 is just slightly better than model 1. However, the major difference is their value loss. By decreasing the learning rate, we have also improved the accuracy of the probability distribution generated by the cross\\_entropy function."
   ]
  },
  {
   "cell_type": "code",
   "execution_count": 27,
   "metadata": {},
   "outputs": [
    {
     "name": "stdout",
     "output_type": "stream",
     "text": [
      "[jovian] Metrics logged.\u001b[0m\n"
     ]
    }
   ],
   "source": [
    "# Logging the metrics to jovian.ml\n",
    "jovian.log_metrics(test_acc=result_2['val_acc'], test_loss=result_2['val_loss'])"
   ]
  },
  {
   "cell_type": "markdown",
   "metadata": {},
   "source": [
    "## Prediction\n",
    "#### Using our model to predict the letter denoted by the hand symbol"
   ]
  },
  {
   "cell_type": "markdown",
   "metadata": {},
   "source": [
    "Here we used a predict\\_image helper function to use our second model to try and predict on some of the images on the test dataset."
   ]
  },
  {
   "cell_type": "code",
   "execution_count": 29,
   "metadata": {},
   "outputs": [],
   "source": [
    "def predict_image(img, model):\n",
    "    xb = img.unsqueeze(0)\n",
    "    yb = model(xb)\n",
    "    _, preds  = torch.max(yb, dim=1)\n",
    "    return preds[0].item()"
   ]
  },
  {
   "cell_type": "code",
   "execution_count": 30,
   "metadata": {},
   "outputs": [
    {
     "name": "stdout",
     "output_type": "stream",
     "text": [
      "Label: H , Predicted: H\n"
     ]
    },
    {
     "data": {
      "image/png": "[encoded data removed]",
      "text/plain": [
       "<Figure size 432x288 with 1 Axes>"
      ]
     },
     "metadata": {
      "needs_background": "light"
     },
     "output_type": "display_data"
    }
   ],
   "source": [
    "img, label = testdataset[919]\n",
    "plt.imshow(img.reshape(28,28), cmap='gray')\n",
    "print('Label:', letters[label.item()], ', Predicted:', letters[predict_image(img, model_2)])"
   ]
  },
  {
   "cell_type": "markdown",
   "metadata": {},
   "source": [
    "Here the model correctly predicted the image. Let's try another one."
   ]
  },
  {
   "cell_type": "code",
   "execution_count": 31,
   "metadata": {},
   "outputs": [
    {
     "name": "stdout",
     "output_type": "stream",
     "text": [
      "Label: H , Predicted: N\n"
     ]
    },
    {
     "data": {
      "image/png": "[encoded data removed]",
      "text/plain": [
       "<Figure size 432x288 with 1 Axes>"
      ]
     },
     "metadata": {
      "needs_background": "light"
     },
     "output_type": "display_data"
    }
   ],
   "source": [
    "img, label = testdataset[19]\n",
    "plt.imshow(img.reshape(28,28), cmap='gray')\n",
    "print('Label:', letters[label.item()], ', Predicted:', letters[predict_image(img, model_2)])"
   ]
  },
  {
   "cell_type": "markdown",
   "metadata": {},
   "source": [
    "Here the model incorrectly predicted the image. Probably because the image is dark on the center that's why the model thought that the image is corresponds the letter \"N\"."
   ]
  },
  {
   "cell_type": "markdown",
   "metadata": {},
   "source": [
    "## Save and upload\n",
    "#### Saving the parameters and code for future use"
   ]
  },
  {
   "cell_type": "code",
   "execution_count": 32,
   "metadata": {},
   "outputs": [
    {
     "data": {
      "application/javascript": [
       "window.require && require([\"base/js/namespace\"],function(Jupyter){Jupyter.notebook.save_checkpoint()})"
      ],
      "text/plain": [
       "<IPython.core.display.Javascript object>"
      ]
     },
     "metadata": {},
     "output_type": "display_data"
    },
    {
     "name": "stdout",
     "output_type": "stream",
     "text": [
      "[jovian] Attempting to save notebook..\u001b[0m\n",
      "[jovian] Updating notebook \"gry-galario/mnist-logistic-minimal\" on https://jovian.ml/\u001b[0m\n",
      "[jovian] Uploading notebook..\u001b[0m\n",
      "[jovian] Attaching records (metrics, hyperparameters, dataset etc.)\u001b[0m\n",
      "[jovian] Committed successfully! https://jovian.ml/gry-galario/mnist-logistic-minimal\u001b[0m\n"
     ]
    },
    {
     "data": {
      "text/plain": [
       "'https://jovian.ml/gry-galario/mnist-logistic-minimal'"
      ]
     },
     "execution_count": 32,
     "metadata": {},
     "output_type": "execute_result"
    }
   ],
   "source": [
    "os.chdir('/kaggle/working/')\n",
    "jovian.commit(project='mnist-logistic-minimal', environment=None)"
   ]
  },
  {
   "cell_type": "code",
   "execution_count": 34,
   "metadata": {},
   "outputs": [],
   "source": [
    "# Here the model parameters are saved so that we dont have to train the model next time\n",
    "torch.save(model_2.state_dict(), 'mnist-logistic.pth')"
   ]
  },
  {
   "cell_type": "code",
   "execution_count": 35,
   "metadata": {},
   "outputs": [
    {
     "data": {
      "text/plain": [
       "OrderedDict([('linear.weight',\n",
       "              tensor([[ 0.0124,  0.0202, -0.0243,  ...,  0.0081,  0.0165, -0.0029],\n",
       "                      [ 0.0251,  0.0169, -0.0093,  ...,  0.0270,  0.0185,  0.0027],\n",
       "                      [-0.0250, -0.0077, -0.0101,  ..., -0.0308,  0.0293, -0.0089],\n",
       "                      ...,\n",
       "                      [ 0.0211,  0.0215, -0.0284,  ...,  0.0303, -0.0024,  0.0177],\n",
       "                      [-0.0211,  0.0308, -0.0225,  ..., -0.0178, -0.0247, -0.0067],\n",
       "                      [-0.0130, -0.0296,  0.0113,  ...,  0.0263, -0.0161, -0.0303]])),\n",
       "             ('linear.bias',\n",
       "              tensor([ 0.0224, -0.0150,  0.0261, -0.0233, -0.0051, -0.0003,  0.0332, -0.0190,\n",
       "                      -0.0050, -0.0140,  0.0064,  0.0225, -0.0353,  0.0118,  0.0238, -0.0032,\n",
       "                       0.0027, -0.0054, -0.0270,  0.0263,  0.0311,  0.0342, -0.0159, -0.0002,\n",
       "                      -0.0219, -0.0200]))])"
      ]
     },
     "execution_count": 35,
     "metadata": {},
     "output_type": "execute_result"
    }
   ],
   "source": [
    "# Let's look at the model parameters\n",
    "model_2.state_dict()"
   ]
  },
  {
   "cell_type": "code",
   "execution_count": 36,
   "metadata": {},
   "outputs": [
    {
     "data": {
      "text/plain": [
       "OrderedDict([('linear.weight',\n",
       "              tensor([[ 0.0124,  0.0202, -0.0243,  ...,  0.0081,  0.0165, -0.0029],\n",
       "                      [ 0.0251,  0.0169, -0.0093,  ...,  0.0270,  0.0185,  0.0027],\n",
       "                      [-0.0250, -0.0077, -0.0101,  ..., -0.0308,  0.0293, -0.0089],\n",
       "                      ...,\n",
       "                      [ 0.0211,  0.0215, -0.0284,  ...,  0.0303, -0.0024,  0.0177],\n",
       "                      [-0.0211,  0.0308, -0.0225,  ..., -0.0178, -0.0247, -0.0067],\n",
       "                      [-0.0130, -0.0296,  0.0113,  ...,  0.0263, -0.0161, -0.0303]])),\n",
       "             ('linear.bias',\n",
       "              tensor([ 0.0224, -0.0150,  0.0261, -0.0233, -0.0051, -0.0003,  0.0332, -0.0190,\n",
       "                      -0.0050, -0.0140,  0.0064,  0.0225, -0.0353,  0.0118,  0.0238, -0.0032,\n",
       "                       0.0027, -0.0054, -0.0270,  0.0263,  0.0311,  0.0342, -0.0159, -0.0002,\n",
       "                      -0.0219, -0.0200]))])"
      ]
     },
     "execution_count": 36,
     "metadata": {},
     "output_type": "execute_result"
    }
   ],
   "source": [
    "# To verify we can load these parameters in a new model\n",
    "model_3 = MnistModel()\n",
    "model_3.load_state_dict(torch.load('mnist-logistic.pth'))\n",
    "model_3.state_dict()"
   ]
  },
  {
   "cell_type": "markdown",
   "metadata": {},
   "source": [
    "Since the parameters for the model\\_2 and model\\_3 are the same, we can indeed load the saved parameters and no longer need to train the model again."
   ]
  },
  {
   "cell_type": "code",
   "execution_count": 37,
   "metadata": {},
   "outputs": [
    {
     "data": {
      "application/javascript": [
       "window.require && require([\"base/js/namespace\"],function(Jupyter){Jupyter.notebook.save_checkpoint()})"
      ],
      "text/plain": [
       "<IPython.core.display.Javascript object>"
      ]
     },
     "metadata": {},
     "output_type": "display_data"
    },
    {
     "name": "stdout",
     "output_type": "stream",
     "text": [
      "[jovian] Attempting to save notebook..\u001b[0m\n",
      "[jovian] Updating notebook \"gry-galario/mnist-logistic-minimal\" on https://jovian.ml/\u001b[0m\n",
      "[jovian] Uploading notebook..\u001b[0m\n",
      "[jovian] Uploading additional outputs...\u001b[0m\n",
      "[jovian] Attaching records (metrics, hyperparameters, dataset etc.)\u001b[0m\n",
      "[jovian] Committed successfully! https://jovian.ml/gry-galario/mnist-logistic-minimal\u001b[0m\n"
     ]
    },
    {
     "data": {
      "text/plain": [
       "'https://jovian.ml/gry-galario/mnist-logistic-minimal'"
      ]
     },
     "execution_count": 37,
     "metadata": {},
     "output_type": "execute_result"
    }
   ],
   "source": [
    "jovian.commit(project='mnist-logistic-minimal', environment=None, outputs=['mnist-logistic.pth'])"
   ]
  },
  {
   "cell_type": "markdown",
   "metadata": {},
   "source": [
    "# References\n",
    "* Sign Language MNIST Dataset: https://www.kaggle.com/datamunge/sign-language-mnist\n",
    "* Image Classification Using Logistic Regression: https://www.youtube.com/watch?v=4ZZrP68yXCI"
   ]
  },
  {
   "cell_type": "code",
   "execution_count": null,
   "metadata": {},
   "outputs": [
    {
     "data": {
      "application/javascript": [
       "window.require && require([\"base/js/namespace\"],function(Jupyter){Jupyter.notebook.save_checkpoint()})"
      ],
      "text/plain": [
       "<IPython.core.display.Javascript object>"
      ]
     },
     "metadata": {},
     "output_type": "display_data"
    },
    {
     "name": "stdout",
     "output_type": "stream",
     "text": [
      "[jovian] Attempting to save notebook..\u001b[0m\n"
     ]
    }
   ],
   "source": [
    "jovian.commit(project='mnist-logistic-minimal', environment=None, outputs=['mnist-logistic.pth'])"
   ]
  },
  {
   "cell_type": "code",
   "execution_count": null,
   "metadata": {},
   "outputs": [],
   "source": []
  }
 ],
 "metadata": {
  "kernelspec": {
   "display_name": "Python 3",
   "language": "python",
   "name": "python3"
  },
  "language_info": {
   "codemirror_mode": {
    "name": "ipython",
    "version": 3
   },
   "file_extension": ".py",
   "mimetype": "text/x-python",
   "name": "python",
   "nbconvert_exporter": "python",
   "pygments_lexer": "ipython3",
   "version": "3.6.4"
  }
 },
 "nbformat": 4,
 "nbformat_minor": 4
}
